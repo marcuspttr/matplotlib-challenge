{
 "cells": [
  {
   "cell_type": "markdown",
   "source": [
    "## Observations and Insights \r\n",
    "Observations:\r\n",
    "1) Based on the boxplot and individual line plot Capomulin appeared to be one of the more effective drugs.\r\n",
    "Within the bloxplot only Ramicane had slightly lower Tumor Volume levels and both experienced much more consistent results with \r\n",
    "similarly smaller IQR's compared to the other treatments. Randomly selecting mice, nearly every mouse that took Capomulin survived\r\n",
    "to have data collected at the 45 Timepoint and saw their Tumor Volume's (mm3) decrease dramatically.\r\n",
    "\r\n",
    "2) The data seemed to imply that the tests were conducted well and had predictable results. There was only 1 potential outlier detected\r\n",
    "within the boxplots and looked at the standard deviations across the drugs they seemed reasonably small (no heavy skewing).\r\n",
    "\r\n",
    "3) Finally looking at the scatterplots Mice Weight and thus size seemed to be a good predictor of Tumor Volume. A r-value of 0.84 reflects\r\n",
    "a decently strong, positive correlation between the variables. Furthermore a r^2 of 0.71 tells us that 71% of a mouse's overall tumor volume is explained by its own mass. Could tell us a lot about the management of cancer and the effect a subjects weight (or possibly being overweight) having an impact on treatments."
   ],
   "metadata": {}
  },
  {
   "cell_type": "code",
   "execution_count": 2,
   "source": [
    "# Dependencies and Setup\r\n",
    "import matplotlib.pyplot as plt\r\n",
    "import pandas as pd\r\n",
    "import scipy.stats as st\r\n",
    "import numpy as np\r\n",
    "import random\r\n",
    "\r\n",
    "# Study data files\r\n",
    "mouse_metadata_path = \"data/Mouse_metadata.csv\"\r\n",
    "study_results_path = \"data/Study_results.csv\"\r\n",
    "\r\n",
    "# Read the mouse data and the study results\r\n",
    "mouse_metadata = pd.read_csv(mouse_metadata_path)\r\n",
    "study_results = pd.read_csv(study_results_path)\r\n",
    "\r\n",
    "# Combine the data into a single dataset\r\n",
    "mice_df = pd.merge(mouse_metadata,study_results,on = 'Mouse ID', how = 'inner')\r\n",
    "# Display the data table for preview\r\n",
    "mice_df.head()"
   ],
   "outputs": [
    {
     "output_type": "execute_result",
     "data": {
      "text/html": [
       "<div>\n",
       "<style scoped>\n",
       "    .dataframe tbody tr th:only-of-type {\n",
       "        vertical-align: middle;\n",
       "    }\n",
       "\n",
       "    .dataframe tbody tr th {\n",
       "        vertical-align: top;\n",
       "    }\n",
       "\n",
       "    .dataframe thead th {\n",
       "        text-align: right;\n",
       "    }\n",
       "</style>\n",
       "<table border=\"1\" class=\"dataframe\">\n",
       "  <thead>\n",
       "    <tr style=\"text-align: right;\">\n",
       "      <th></th>\n",
       "      <th>Mouse ID</th>\n",
       "      <th>Drug Regimen</th>\n",
       "      <th>Sex</th>\n",
       "      <th>Age_months</th>\n",
       "      <th>Weight (g)</th>\n",
       "      <th>Timepoint</th>\n",
       "      <th>Tumor Volume (mm3)</th>\n",
       "      <th>Metastatic Sites</th>\n",
       "    </tr>\n",
       "  </thead>\n",
       "  <tbody>\n",
       "    <tr>\n",
       "      <th>0</th>\n",
       "      <td>k403</td>\n",
       "      <td>Ramicane</td>\n",
       "      <td>Male</td>\n",
       "      <td>21</td>\n",
       "      <td>16</td>\n",
       "      <td>0</td>\n",
       "      <td>45.000000</td>\n",
       "      <td>0</td>\n",
       "    </tr>\n",
       "    <tr>\n",
       "      <th>1</th>\n",
       "      <td>k403</td>\n",
       "      <td>Ramicane</td>\n",
       "      <td>Male</td>\n",
       "      <td>21</td>\n",
       "      <td>16</td>\n",
       "      <td>5</td>\n",
       "      <td>38.825898</td>\n",
       "      <td>0</td>\n",
       "    </tr>\n",
       "    <tr>\n",
       "      <th>2</th>\n",
       "      <td>k403</td>\n",
       "      <td>Ramicane</td>\n",
       "      <td>Male</td>\n",
       "      <td>21</td>\n",
       "      <td>16</td>\n",
       "      <td>10</td>\n",
       "      <td>35.014271</td>\n",
       "      <td>1</td>\n",
       "    </tr>\n",
       "    <tr>\n",
       "      <th>3</th>\n",
       "      <td>k403</td>\n",
       "      <td>Ramicane</td>\n",
       "      <td>Male</td>\n",
       "      <td>21</td>\n",
       "      <td>16</td>\n",
       "      <td>15</td>\n",
       "      <td>34.223992</td>\n",
       "      <td>1</td>\n",
       "    </tr>\n",
       "    <tr>\n",
       "      <th>4</th>\n",
       "      <td>k403</td>\n",
       "      <td>Ramicane</td>\n",
       "      <td>Male</td>\n",
       "      <td>21</td>\n",
       "      <td>16</td>\n",
       "      <td>20</td>\n",
       "      <td>32.997729</td>\n",
       "      <td>1</td>\n",
       "    </tr>\n",
       "  </tbody>\n",
       "</table>\n",
       "</div>"
      ],
      "text/plain": [
       "  Mouse ID Drug Regimen   Sex  Age_months  Weight (g)  Timepoint  \\\n",
       "0     k403     Ramicane  Male          21          16          0   \n",
       "1     k403     Ramicane  Male          21          16          5   \n",
       "2     k403     Ramicane  Male          21          16         10   \n",
       "3     k403     Ramicane  Male          21          16         15   \n",
       "4     k403     Ramicane  Male          21          16         20   \n",
       "\n",
       "   Tumor Volume (mm3)  Metastatic Sites  \n",
       "0           45.000000                 0  \n",
       "1           38.825898                 0  \n",
       "2           35.014271                 1  \n",
       "3           34.223992                 1  \n",
       "4           32.997729                 1  "
      ]
     },
     "metadata": {},
     "execution_count": 2
    }
   ],
   "metadata": {}
  },
  {
   "cell_type": "code",
   "execution_count": 3,
   "source": [
    "# Checking the number of mice.\r\n",
    "mice_df['Mouse ID'].nunique()"
   ],
   "outputs": [
    {
     "output_type": "execute_result",
     "data": {
      "text/plain": [
       "249"
      ]
     },
     "metadata": {},
     "execution_count": 3
    }
   ],
   "metadata": {}
  },
  {
   "cell_type": "code",
   "execution_count": 4,
   "source": [
    "# Getting the duplicate mice by ID number that shows up for Mouse ID and Timepoint. \r\n",
    "mice_df[mice_df.duplicated(subset = ['Mouse ID','Timepoint'])]"
   ],
   "outputs": [
    {
     "output_type": "execute_result",
     "data": {
      "text/html": [
       "<div>\n",
       "<style scoped>\n",
       "    .dataframe tbody tr th:only-of-type {\n",
       "        vertical-align: middle;\n",
       "    }\n",
       "\n",
       "    .dataframe tbody tr th {\n",
       "        vertical-align: top;\n",
       "    }\n",
       "\n",
       "    .dataframe thead th {\n",
       "        text-align: right;\n",
       "    }\n",
       "</style>\n",
       "<table border=\"1\" class=\"dataframe\">\n",
       "  <thead>\n",
       "    <tr style=\"text-align: right;\">\n",
       "      <th></th>\n",
       "      <th>Mouse ID</th>\n",
       "      <th>Drug Regimen</th>\n",
       "      <th>Sex</th>\n",
       "      <th>Age_months</th>\n",
       "      <th>Weight (g)</th>\n",
       "      <th>Timepoint</th>\n",
       "      <th>Tumor Volume (mm3)</th>\n",
       "      <th>Metastatic Sites</th>\n",
       "    </tr>\n",
       "  </thead>\n",
       "  <tbody>\n",
       "    <tr>\n",
       "      <th>909</th>\n",
       "      <td>g989</td>\n",
       "      <td>Propriva</td>\n",
       "      <td>Female</td>\n",
       "      <td>21</td>\n",
       "      <td>26</td>\n",
       "      <td>0</td>\n",
       "      <td>45.000000</td>\n",
       "      <td>0</td>\n",
       "    </tr>\n",
       "    <tr>\n",
       "      <th>911</th>\n",
       "      <td>g989</td>\n",
       "      <td>Propriva</td>\n",
       "      <td>Female</td>\n",
       "      <td>21</td>\n",
       "      <td>26</td>\n",
       "      <td>5</td>\n",
       "      <td>47.570392</td>\n",
       "      <td>0</td>\n",
       "    </tr>\n",
       "    <tr>\n",
       "      <th>913</th>\n",
       "      <td>g989</td>\n",
       "      <td>Propriva</td>\n",
       "      <td>Female</td>\n",
       "      <td>21</td>\n",
       "      <td>26</td>\n",
       "      <td>10</td>\n",
       "      <td>49.880528</td>\n",
       "      <td>0</td>\n",
       "    </tr>\n",
       "    <tr>\n",
       "      <th>915</th>\n",
       "      <td>g989</td>\n",
       "      <td>Propriva</td>\n",
       "      <td>Female</td>\n",
       "      <td>21</td>\n",
       "      <td>26</td>\n",
       "      <td>15</td>\n",
       "      <td>53.442020</td>\n",
       "      <td>0</td>\n",
       "    </tr>\n",
       "    <tr>\n",
       "      <th>917</th>\n",
       "      <td>g989</td>\n",
       "      <td>Propriva</td>\n",
       "      <td>Female</td>\n",
       "      <td>21</td>\n",
       "      <td>26</td>\n",
       "      <td>20</td>\n",
       "      <td>54.657650</td>\n",
       "      <td>1</td>\n",
       "    </tr>\n",
       "  </tbody>\n",
       "</table>\n",
       "</div>"
      ],
      "text/plain": [
       "    Mouse ID Drug Regimen     Sex  Age_months  Weight (g)  Timepoint  \\\n",
       "909     g989     Propriva  Female          21          26          0   \n",
       "911     g989     Propriva  Female          21          26          5   \n",
       "913     g989     Propriva  Female          21          26         10   \n",
       "915     g989     Propriva  Female          21          26         15   \n",
       "917     g989     Propriva  Female          21          26         20   \n",
       "\n",
       "     Tumor Volume (mm3)  Metastatic Sites  \n",
       "909           45.000000                 0  \n",
       "911           47.570392                 0  \n",
       "913           49.880528                 0  \n",
       "915           53.442020                 0  \n",
       "917           54.657650                 1  "
      ]
     },
     "metadata": {},
     "execution_count": 4
    }
   ],
   "metadata": {}
  },
  {
   "cell_type": "code",
   "execution_count": null,
   "source": [
    "# Optional: Get all the data for the duplicate mouse ID. \r\n",
    "# I think that's what I displayed above."
   ],
   "outputs": [],
   "metadata": {}
  },
  {
   "cell_type": "code",
   "execution_count": 5,
   "source": [
    "# Create a clean DataFrame by dropping the duplicate mouse by its ID.\r\n",
    "cleanmice_df = mice_df.copy()\r\n",
    "cleanmice_df = cleanmice_df.drop_duplicates(subset = ['Mouse ID', 'Timepoint'])"
   ],
   "outputs": [],
   "metadata": {}
  },
  {
   "cell_type": "code",
   "execution_count": 6,
   "source": [
    "# Checking the number of mice in the clean DataFrame.\r\n",
    "cleanmice_df['Mouse ID'].nunique()"
   ],
   "outputs": [
    {
     "output_type": "execute_result",
     "data": {
      "text/plain": [
       "249"
      ]
     },
     "metadata": {},
     "execution_count": 6
    }
   ],
   "metadata": {}
  },
  {
   "cell_type": "code",
   "execution_count": 7,
   "source": [
    "# Generate a summary statistics table of mean, median, variance, standard deviation, and SEM of the tumor volume for each regimen\r\n",
    "\r\n",
    "# Use groupby and summary statistical methods to calculate the following properties of each drug regimen: \r\n",
    "drug_groups = cleanmice_df.groupby('Drug Regimen')\r\n",
    "\r\n",
    "# mean, median, variance, standard deviation, and SEM of the tumor volume. \r\n",
    "drug_mean = drug_groups['Tumor Volume (mm3)'].mean()\r\n",
    "drug_median = drug_groups['Tumor Volume (mm3)'].median()\r\n",
    "drug_var = drug_groups['Tumor Volume (mm3)'].var()\r\n",
    "drug_std = drug_groups['Tumor Volume (mm3)'].std()\r\n",
    "drug_sem = drug_groups['Tumor Volume (mm3)'].sem()\r\n",
    "\r\n",
    "# Making the dictionary that will create the dataframe.\r\n",
    "drug_dict = {'Mean': drug_mean, 'Median': drug_median, 'Variance': drug_var, 'Standard Deviation': drug_std, 'Standard Error Mean': drug_sem}\r\n",
    "drug_df = pd.DataFrame.from_dict(drug_dict)\r\n",
    "\r\n",
    "drug_df.head()"
   ],
   "outputs": [
    {
     "output_type": "execute_result",
     "data": {
      "text/html": [
       "<div>\n",
       "<style scoped>\n",
       "    .dataframe tbody tr th:only-of-type {\n",
       "        vertical-align: middle;\n",
       "    }\n",
       "\n",
       "    .dataframe tbody tr th {\n",
       "        vertical-align: top;\n",
       "    }\n",
       "\n",
       "    .dataframe thead th {\n",
       "        text-align: right;\n",
       "    }\n",
       "</style>\n",
       "<table border=\"1\" class=\"dataframe\">\n",
       "  <thead>\n",
       "    <tr style=\"text-align: right;\">\n",
       "      <th></th>\n",
       "      <th>Mean</th>\n",
       "      <th>Median</th>\n",
       "      <th>Variance</th>\n",
       "      <th>Standard Deviation</th>\n",
       "      <th>Standard Error Mean</th>\n",
       "    </tr>\n",
       "    <tr>\n",
       "      <th>Drug Regimen</th>\n",
       "      <th></th>\n",
       "      <th></th>\n",
       "      <th></th>\n",
       "      <th></th>\n",
       "      <th></th>\n",
       "    </tr>\n",
       "  </thead>\n",
       "  <tbody>\n",
       "    <tr>\n",
       "      <th>Capomulin</th>\n",
       "      <td>40.675741</td>\n",
       "      <td>41.557809</td>\n",
       "      <td>24.947764</td>\n",
       "      <td>4.994774</td>\n",
       "      <td>0.329346</td>\n",
       "    </tr>\n",
       "    <tr>\n",
       "      <th>Ceftamin</th>\n",
       "      <td>52.591172</td>\n",
       "      <td>51.776157</td>\n",
       "      <td>39.290177</td>\n",
       "      <td>6.268188</td>\n",
       "      <td>0.469821</td>\n",
       "    </tr>\n",
       "    <tr>\n",
       "      <th>Infubinol</th>\n",
       "      <td>52.884795</td>\n",
       "      <td>51.820584</td>\n",
       "      <td>43.128684</td>\n",
       "      <td>6.567243</td>\n",
       "      <td>0.492236</td>\n",
       "    </tr>\n",
       "    <tr>\n",
       "      <th>Ketapril</th>\n",
       "      <td>55.235638</td>\n",
       "      <td>53.698743</td>\n",
       "      <td>68.553577</td>\n",
       "      <td>8.279709</td>\n",
       "      <td>0.603860</td>\n",
       "    </tr>\n",
       "    <tr>\n",
       "      <th>Naftisol</th>\n",
       "      <td>54.331565</td>\n",
       "      <td>52.509285</td>\n",
       "      <td>66.173479</td>\n",
       "      <td>8.134708</td>\n",
       "      <td>0.596466</td>\n",
       "    </tr>\n",
       "  </tbody>\n",
       "</table>\n",
       "</div>"
      ],
      "text/plain": [
       "                   Mean     Median   Variance  Standard Deviation  \\\n",
       "Drug Regimen                                                        \n",
       "Capomulin     40.675741  41.557809  24.947764            4.994774   \n",
       "Ceftamin      52.591172  51.776157  39.290177            6.268188   \n",
       "Infubinol     52.884795  51.820584  43.128684            6.567243   \n",
       "Ketapril      55.235638  53.698743  68.553577            8.279709   \n",
       "Naftisol      54.331565  52.509285  66.173479            8.134708   \n",
       "\n",
       "              Standard Error Mean  \n",
       "Drug Regimen                       \n",
       "Capomulin                0.329346  \n",
       "Ceftamin                 0.469821  \n",
       "Infubinol                0.492236  \n",
       "Ketapril                 0.603860  \n",
       "Naftisol                 0.596466  "
      ]
     },
     "metadata": {},
     "execution_count": 7
    }
   ],
   "metadata": {}
  },
  {
   "cell_type": "markdown",
   "source": [
    "## Summary Statistics"
   ],
   "metadata": {}
  },
  {
   "cell_type": "code",
   "execution_count": 8,
   "source": [
    "# Generate a summary statistics table of mean, median, variance, standard deviation, and SEM of the tumor volume for each regimen\r\n",
    "\r\n",
    "# Using the aggregation method, produce the same summary statistics in a single line\r\n",
    "agg_table = cleanmice_df.groupby('Drug Regimen').agg({'Tumor Volume (mm3)':['mean','median', 'var', 'std', 'sem']})\r\n",
    "\r\n",
    "# Fixing the column names.\r\n",
    "agg_table = agg_table.rename(columns = {'mean': 'Mean', 'median': 'Median', 'var': 'Variance', 'std': 'Standard Deviation','sem': 'Standard Error Mean'}).head()\r\n",
    "\r\n",
    "agg_table"
   ],
   "outputs": [
    {
     "output_type": "execute_result",
     "data": {
      "text/html": [
       "<div>\n",
       "<style scoped>\n",
       "    .dataframe tbody tr th:only-of-type {\n",
       "        vertical-align: middle;\n",
       "    }\n",
       "\n",
       "    .dataframe tbody tr th {\n",
       "        vertical-align: top;\n",
       "    }\n",
       "\n",
       "    .dataframe thead tr th {\n",
       "        text-align: left;\n",
       "    }\n",
       "\n",
       "    .dataframe thead tr:last-of-type th {\n",
       "        text-align: right;\n",
       "    }\n",
       "</style>\n",
       "<table border=\"1\" class=\"dataframe\">\n",
       "  <thead>\n",
       "    <tr>\n",
       "      <th></th>\n",
       "      <th colspan=\"5\" halign=\"left\">Tumor Volume (mm3)</th>\n",
       "    </tr>\n",
       "    <tr>\n",
       "      <th></th>\n",
       "      <th>Mean</th>\n",
       "      <th>Median</th>\n",
       "      <th>Variance</th>\n",
       "      <th>Standard Deviation</th>\n",
       "      <th>Standard Error Mean</th>\n",
       "    </tr>\n",
       "    <tr>\n",
       "      <th>Drug Regimen</th>\n",
       "      <th></th>\n",
       "      <th></th>\n",
       "      <th></th>\n",
       "      <th></th>\n",
       "      <th></th>\n",
       "    </tr>\n",
       "  </thead>\n",
       "  <tbody>\n",
       "    <tr>\n",
       "      <th>Capomulin</th>\n",
       "      <td>40.675741</td>\n",
       "      <td>41.557809</td>\n",
       "      <td>24.947764</td>\n",
       "      <td>4.994774</td>\n",
       "      <td>0.329346</td>\n",
       "    </tr>\n",
       "    <tr>\n",
       "      <th>Ceftamin</th>\n",
       "      <td>52.591172</td>\n",
       "      <td>51.776157</td>\n",
       "      <td>39.290177</td>\n",
       "      <td>6.268188</td>\n",
       "      <td>0.469821</td>\n",
       "    </tr>\n",
       "    <tr>\n",
       "      <th>Infubinol</th>\n",
       "      <td>52.884795</td>\n",
       "      <td>51.820584</td>\n",
       "      <td>43.128684</td>\n",
       "      <td>6.567243</td>\n",
       "      <td>0.492236</td>\n",
       "    </tr>\n",
       "    <tr>\n",
       "      <th>Ketapril</th>\n",
       "      <td>55.235638</td>\n",
       "      <td>53.698743</td>\n",
       "      <td>68.553577</td>\n",
       "      <td>8.279709</td>\n",
       "      <td>0.603860</td>\n",
       "    </tr>\n",
       "    <tr>\n",
       "      <th>Naftisol</th>\n",
       "      <td>54.331565</td>\n",
       "      <td>52.509285</td>\n",
       "      <td>66.173479</td>\n",
       "      <td>8.134708</td>\n",
       "      <td>0.596466</td>\n",
       "    </tr>\n",
       "  </tbody>\n",
       "</table>\n",
       "</div>"
      ],
      "text/plain": [
       "             Tumor Volume (mm3)                                           \\\n",
       "                           Mean     Median   Variance Standard Deviation   \n",
       "Drug Regimen                                                               \n",
       "Capomulin             40.675741  41.557809  24.947764           4.994774   \n",
       "Ceftamin              52.591172  51.776157  39.290177           6.268188   \n",
       "Infubinol             52.884795  51.820584  43.128684           6.567243   \n",
       "Ketapril              55.235638  53.698743  68.553577           8.279709   \n",
       "Naftisol              54.331565  52.509285  66.173479           8.134708   \n",
       "\n",
       "                                  \n",
       "             Standard Error Mean  \n",
       "Drug Regimen                      \n",
       "Capomulin               0.329346  \n",
       "Ceftamin                0.469821  \n",
       "Infubinol               0.492236  \n",
       "Ketapril                0.603860  \n",
       "Naftisol                0.596466  "
      ]
     },
     "metadata": {},
     "execution_count": 8
    }
   ],
   "metadata": {}
  },
  {
   "cell_type": "markdown",
   "source": [
    "## Bar and Pie Charts"
   ],
   "metadata": {}
  },
  {
   "cell_type": "code",
   "execution_count": 9,
   "source": [
    "# Generate a bar plot showing the total number of timepoints for all mice tested for each drug regimen using Pandas.\r\n",
    "\r\n",
    "# Counting the timepoints based on drug name.\r\n",
    "drug_count = drug_groups['Timepoint'].count()\r\n",
    "\r\n",
    "# Making the bargraph from the data.\r\n",
    "drug_count.plot(kind = 'bar', facecolor = 'coral')\r\n",
    "\r\n",
    "# Adding proper labeling to the graph for clarity.\r\n",
    "plt.title(\"Total Timepoints per Drug\")\r\n",
    "plt.ylabel('Count')\r\n",
    "plt.xlabel('Administered Drug Name')\r\n",
    "\r\n",
    "plt.tight_layout()\r\n",
    "plt.show()"
   ],
   "outputs": [
    {
     "output_type": "display_data",
     "data": {
      "image/png": "[encoded data removed]",
      "text/plain": [
       "<Figure size 432x288 with 1 Axes>"
      ]
     },
     "metadata": {
      "needs_background": "light"
     }
    }
   ],
   "metadata": {}
  },
  {
   "cell_type": "code",
   "execution_count": 10,
   "source": [
    "# Generate a bar plot showing the total number of timepoints for all mice tested for each drug regimen using pyplot.\r\n",
    "\r\n",
    "# Storing the drug names for labeling\r\n",
    "drug_names = drug_df.index\r\n",
    "\r\n",
    "# Using the names of the drugs to determine how many bars the graph will need.\r\n",
    "xaxis = np.arange(0, len(drug_names), 1)\r\n",
    "\r\n",
    "# Creating the initial bar graph.\r\n",
    "plt.bar(xaxis, drug_count, color = 'coral')\r\n",
    "\r\n",
    "# Adding labels to the tickmarks.\r\n",
    "plt.xticks(xaxis, drug_names, rotation = 90)\r\n",
    "\r\n",
    "# Adding proper labeling to the graph for clarity.\r\n",
    "plt.title(\"Total Timepoints per Drug\")\r\n",
    "plt.ylabel('Count')\r\n",
    "plt.xlabel('Administered Drug Name')\r\n",
    "\r\n",
    "plt.tight_layout()\r\n",
    "plt.show()\r\n"
   ],
   "outputs": [
    {
     "output_type": "display_data",
     "data": {
      "image/png": "[encoded data removed]",
      "text/plain": [
       "<Figure size 432x288 with 1 Axes>"
      ]
     },
     "metadata": {
      "needs_background": "light"
     }
    }
   ],
   "metadata": {}
  },
  {
   "cell_type": "code",
   "execution_count": 11,
   "source": [
    "# Generate a pie plot showing the distribution of female versus male mice using Pandas\r\n",
    "\r\n",
    "# First drop all the duplicate Mouse ID so each mouse is only listed once.\r\n",
    "mice_list = cleanmice_df.drop_duplicates(subset = 'Mouse ID')\r\n",
    "\r\n",
    "# Group the mice by gender, then count them.\r\n",
    "gender_count = mice_list.groupby('Sex')['Mouse ID'].count()\r\n",
    "\r\n",
    "# Creating the pie chart, switching from count to percentage\r\n",
    "# Removed the labels to stop it looking crowded.\r\n",
    "mice_pie = gender_count.plot(kind = \"pie\", labels = None, colors = ['lightblue','lightcoral'],autopct = '%1.1f%%', title=(\"Relative Frequency of Mice Gender Counts\"))\r\n",
    "\r\n",
    "# Adding a legend instead of the labels.\r\n",
    "mice_pie.legend(loc=3, labels=gender_count.index)\r\n",
    "\r\n",
    "# Removed y-label as it cluttered the image and the information is in the title.\r\n",
    "mice_pie.set_ylabel(None)\r\n",
    "\r\n",
    "# Made sure it was squared up.\r\n",
    "plt.axis(\"equal\")\r\n",
    "\r\n",
    "plt.tight_layout()\r\n",
    "plt.show()"
   ],
   "outputs": [
    {
     "output_type": "display_data",
     "data": {
      "image/png": "[encoded data removed]",
      "text/plain": [
       "<Figure size 432x288 with 1 Axes>"
      ]
     },
     "metadata": {}
    }
   ],
   "metadata": {}
  },
  {
   "cell_type": "code",
   "execution_count": 12,
   "source": [
    "# Generate a pie plot showing the distribution of female versus male mice using pyplot\r\n",
    "\r\n",
    "# Here are the labels traditionally used.\r\n",
    "labels = gender_count.index\r\n",
    "\r\n",
    "# The values of each section of the pie chart is the previously found gender_counts\r\n",
    "\r\n",
    "# The colors of each section of the pie chart\r\n",
    "colors = [\"lightblue\", \"lightcoral\"]\r\n",
    "\r\n",
    "# Creating the pie chart based upon the values above\r\n",
    "plt.pie(gender_count, colors = colors, labels = labels, autopct=\"%1.1f%%\", shadow = True)\r\n",
    "plt.title(\"Relative Frequency of Mice Gender Counts\")\r\n",
    "\r\n",
    "plt.axis(\"equal\")\r\n",
    "plt.tight_layout()\r\n",
    "plt.show()"
   ],
   "outputs": [
    {
     "output_type": "display_data",
     "data": {
      "image/png": "[encoded data removed]",
      "text/plain": [
       "<Figure size 432x288 with 1 Axes>"
      ]
     },
     "metadata": {}
    }
   ],
   "metadata": {}
  },
  {
   "cell_type": "markdown",
   "source": [
    "## Quartiles, Outliers and Boxplots"
   ],
   "metadata": {}
  },
  {
   "cell_type": "code",
   "execution_count": 13,
   "source": [
    "# Calculate the final tumor volume of each mouse across four of the treatment regimens:  \r\n",
    "# Capomulin, Ramicane, Infubinol, and Ceftamin\r\n",
    "\r\n",
    "# Start by getting the last (greatest) timepoint for each mouse\r\n",
    "#   greatest_mice_df = cleanmice_df.sort_values(by = ['Timepoint'], ascending = False)\r\n",
    "# Then drop all the duplicate ID's leaving the first occurence, which would in turn be last timepoint.\r\n",
    "#   greatest_mice_list = greatest_mice_df.drop_duplicates(subset = 'Mouse ID')\r\n",
    "# This seemed quick, but was not how it was asked to be done.\r\n",
    "\r\n",
    "\r\n",
    "# Merge this group df with the original dataframe to get the tumor volume at the last timepoint.\r\n",
    "tumors_atlast = cleanmice_df.groupby('Mouse ID').agg({'Timepoint':'max'})\r\n",
    "mice_greatest_timepoint = pd.merge(cleanmice_df, tumors_atlast, on =['Mouse ID','Timepoint'], how='inner')\r\n",
    "\r\n",
    "#mice_greatest_timepoint.loc[(mice_greatest_timepoint['Drug Regimen'] == 'Capomulin')|(mice_last_time['Drug Regimen'] == 'Ramicane')]\r\n",
    "    # The above method seemed to clunky.\r\n",
    "\r\n",
    "#Filtering the mice to only include those with the indicated drug regimens\r\n",
    "listofdrugs = ['Capomulin', 'Ramicane', 'Infubinol', 'Ceftamin']\r\n",
    "mice_greatest_timepoint[mice_greatest_timepoint['Drug Regimen'].isin(listofdrugs)]\r\n"
   ],
   "outputs": [
    {
     "output_type": "execute_result",
     "data": {
      "text/html": [
       "<div>\n",
       "<style scoped>\n",
       "    .dataframe tbody tr th:only-of-type {\n",
       "        vertical-align: middle;\n",
       "    }\n",
       "\n",
       "    .dataframe tbody tr th {\n",
       "        vertical-align: top;\n",
       "    }\n",
       "\n",
       "    .dataframe thead th {\n",
       "        text-align: right;\n",
       "    }\n",
       "</style>\n",
       "<table border=\"1\" class=\"dataframe\">\n",
       "  <thead>\n",
       "    <tr style=\"text-align: right;\">\n",
       "      <th></th>\n",
       "      <th>Mouse ID</th>\n",
       "      <th>Drug Regimen</th>\n",
       "      <th>Sex</th>\n",
       "      <th>Age_months</th>\n",
       "      <th>Weight (g)</th>\n",
       "      <th>Timepoint</th>\n",
       "      <th>Tumor Volume (mm3)</th>\n",
       "      <th>Metastatic Sites</th>\n",
       "    </tr>\n",
       "  </thead>\n",
       "  <tbody>\n",
       "    <tr>\n",
       "      <th>0</th>\n",
       "      <td>k403</td>\n",
       "      <td>Ramicane</td>\n",
       "      <td>Male</td>\n",
       "      <td>21</td>\n",
       "      <td>16</td>\n",
       "      <td>45</td>\n",
       "      <td>22.050126</td>\n",
       "      <td>1</td>\n",
       "    </tr>\n",
       "    <tr>\n",
       "      <th>1</th>\n",
       "      <td>s185</td>\n",
       "      <td>Capomulin</td>\n",
       "      <td>Female</td>\n",
       "      <td>3</td>\n",
       "      <td>17</td>\n",
       "      <td>45</td>\n",
       "      <td>23.343598</td>\n",
       "      <td>1</td>\n",
       "    </tr>\n",
       "    <tr>\n",
       "      <th>2</th>\n",
       "      <td>x401</td>\n",
       "      <td>Capomulin</td>\n",
       "      <td>Female</td>\n",
       "      <td>16</td>\n",
       "      <td>15</td>\n",
       "      <td>45</td>\n",
       "      <td>28.484033</td>\n",
       "      <td>0</td>\n",
       "    </tr>\n",
       "    <tr>\n",
       "      <th>3</th>\n",
       "      <td>m601</td>\n",
       "      <td>Capomulin</td>\n",
       "      <td>Male</td>\n",
       "      <td>22</td>\n",
       "      <td>17</td>\n",
       "      <td>45</td>\n",
       "      <td>28.430964</td>\n",
       "      <td>1</td>\n",
       "    </tr>\n",
       "    <tr>\n",
       "      <th>4</th>\n",
       "      <td>g791</td>\n",
       "      <td>Ramicane</td>\n",
       "      <td>Male</td>\n",
       "      <td>11</td>\n",
       "      <td>16</td>\n",
       "      <td>45</td>\n",
       "      <td>29.128472</td>\n",
       "      <td>1</td>\n",
       "    </tr>\n",
       "    <tr>\n",
       "      <th>...</th>\n",
       "      <td>...</td>\n",
       "      <td>...</td>\n",
       "      <td>...</td>\n",
       "      <td>...</td>\n",
       "      <td>...</td>\n",
       "      <td>...</td>\n",
       "      <td>...</td>\n",
       "      <td>...</td>\n",
       "    </tr>\n",
       "    <tr>\n",
       "      <th>235</th>\n",
       "      <td>x822</td>\n",
       "      <td>Ceftamin</td>\n",
       "      <td>Male</td>\n",
       "      <td>3</td>\n",
       "      <td>29</td>\n",
       "      <td>45</td>\n",
       "      <td>61.386660</td>\n",
       "      <td>3</td>\n",
       "    </tr>\n",
       "    <tr>\n",
       "      <th>237</th>\n",
       "      <td>y163</td>\n",
       "      <td>Infubinol</td>\n",
       "      <td>Female</td>\n",
       "      <td>17</td>\n",
       "      <td>27</td>\n",
       "      <td>45</td>\n",
       "      <td>67.685569</td>\n",
       "      <td>3</td>\n",
       "    </tr>\n",
       "    <tr>\n",
       "      <th>241</th>\n",
       "      <td>y769</td>\n",
       "      <td>Ceftamin</td>\n",
       "      <td>Female</td>\n",
       "      <td>6</td>\n",
       "      <td>27</td>\n",
       "      <td>45</td>\n",
       "      <td>68.594745</td>\n",
       "      <td>4</td>\n",
       "    </tr>\n",
       "    <tr>\n",
       "      <th>242</th>\n",
       "      <td>y865</td>\n",
       "      <td>Ceftamin</td>\n",
       "      <td>Male</td>\n",
       "      <td>23</td>\n",
       "      <td>26</td>\n",
       "      <td>45</td>\n",
       "      <td>64.729837</td>\n",
       "      <td>3</td>\n",
       "    </tr>\n",
       "    <tr>\n",
       "      <th>246</th>\n",
       "      <td>z581</td>\n",
       "      <td>Infubinol</td>\n",
       "      <td>Female</td>\n",
       "      <td>24</td>\n",
       "      <td>25</td>\n",
       "      <td>45</td>\n",
       "      <td>62.754451</td>\n",
       "      <td>3</td>\n",
       "    </tr>\n",
       "  </tbody>\n",
       "</table>\n",
       "<p>100 rows × 8 columns</p>\n",
       "</div>"
      ],
      "text/plain": [
       "    Mouse ID Drug Regimen     Sex  Age_months  Weight (g)  Timepoint  \\\n",
       "0       k403     Ramicane    Male          21          16         45   \n",
       "1       s185    Capomulin  Female           3          17         45   \n",
       "2       x401    Capomulin  Female          16          15         45   \n",
       "3       m601    Capomulin    Male          22          17         45   \n",
       "4       g791     Ramicane    Male          11          16         45   \n",
       "..       ...          ...     ...         ...         ...        ...   \n",
       "235     x822     Ceftamin    Male           3          29         45   \n",
       "237     y163    Infubinol  Female          17          27         45   \n",
       "241     y769     Ceftamin  Female           6          27         45   \n",
       "242     y865     Ceftamin    Male          23          26         45   \n",
       "246     z581    Infubinol  Female          24          25         45   \n",
       "\n",
       "     Tumor Volume (mm3)  Metastatic Sites  \n",
       "0             22.050126                 1  \n",
       "1             23.343598                 1  \n",
       "2             28.484033                 0  \n",
       "3             28.430964                 1  \n",
       "4             29.128472                 1  \n",
       "..                  ...               ...  \n",
       "235           61.386660                 3  \n",
       "237           67.685569                 3  \n",
       "241           68.594745                 4  \n",
       "242           64.729837                 3  \n",
       "246           62.754451                 3  \n",
       "\n",
       "[100 rows x 8 columns]"
      ]
     },
     "metadata": {},
     "execution_count": 13
    }
   ],
   "metadata": {}
  },
  {
   "cell_type": "code",
   "execution_count": 14,
   "source": [
    "# Put treatments into a list for a for loop (and later for plot labels)\r\n",
    "listofdrugs\r\n",
    "\r\n",
    "# Create empty list to fill with tumor vol data (for plotting)\r\n",
    "tumor_data = []\r\n",
    "\r\n",
    "for drug in listofdrugs:\r\n",
    "    # Locate the rows which contain mice on each drug and get the tumor volumes\r\n",
    "    drug_filter = mice_greatest_timepoint[mice_greatest_timepoint['Drug Regimen']==drug]\r\n",
    "    drug_volume = drug_filter['Tumor Volume (mm3)']\r\n",
    "    \r\n",
    "    # Calculate the IQR and quantitatively determine if there are any potential outliers.\r\n",
    "    quartiles = drug_volume.quantile([0.25,0.5,0.75])\r\n",
    "    drug_min = round(drug_volume.min(),2)\r\n",
    "    drug_max = round(drug_volume.max(),2)\r\n",
    "    medianq = round(quartiles[0.50],2)\r\n",
    "    lowerq = round(quartiles[0.25],2)\r\n",
    "    upperq = round(quartiles[0.75],2)\r\n",
    "    iqr = round(upperq-lowerq,2)\r\n",
    "    lower_bound = round(lowerq - (1.5*iqr),2)\r\n",
    "    upper_bound = round(upperq + (1.5*iqr),2)\r\n",
    "\r\n",
    "    # Generate a box plot of the final tumor volume of each mouse across four regimens of interest\r\n",
    "    fig1, ax1 = plt.subplots()\r\n",
    "    ax1.set_title(f'{drug} Mice Volume Data')\r\n",
    "    ax1.set_ylabel('Tumor Volume (mm3)')\r\n",
    "    ax1.boxplot(drug_volume)\r\n",
    "    plt.tight_layout()\r\n",
    "    plt.show()\r\n",
    "\r\n",
    "    # Printing the summary statistics for clarity.\r\n",
    "    print(f'5-Number Summary for {drug} is: Min:{drug_min}, Q1:{lowerq}, M:{medianq}, Q3:{upperq}, Max:{drug_max}')\r\n",
    "    print(f'\\tUsing the IQR: {iqr}, Lower Bound = {lower_bound}, Upper Bound = {upper_bound}')\r\n",
    "   \r\n",
    "    # Determine outliers using upper and lower bounds\r\n",
    "    if drug_min  < lower_bound:\r\n",
    "        print(f\"\\t{drug} has atleast one lower outlier\")\r\n",
    "    elif upper_bound < drug_max:\r\n",
    "        print(f\"\\t{drug} has atleast one upper outlier\")\r\n",
    "    \r\n",
    "    \r\n",
    "    \r\n",
    "    "
   ],
   "outputs": [
    {
     "output_type": "display_data",
     "data": {
      "image/png": "[encoded data removed]",
      "text/plain": [
       "<Figure size 432x288 with 1 Axes>"
      ]
     },
     "metadata": {
      "needs_background": "light"
     }
    },
    {
     "output_type": "stream",
     "name": "stdout",
     "text": [
      "5-Number Summary for Capomulin is: Min:23.34, Q1:32.38, M:38.13, Q3:40.16, Max:47.69\n",
      "\tUsing the IQR: 7.78, Lower Bound = 20.71, Upper Bound = 51.83\n"
     ]
    },
    {
     "output_type": "display_data",
     "data": {
      "image/png": "[encoded data removed]",
      "text/plain": [
       "<Figure size 432x288 with 1 Axes>"
      ]
     },
     "metadata": {
      "needs_background": "light"
     }
    },
    {
     "output_type": "stream",
     "name": "stdout",
     "text": [
      "5-Number Summary for Ramicane is: Min:22.05, Q1:31.56, M:36.56, Q3:40.66, Max:45.22\n",
      "\tUsing the IQR: 9.1, Lower Bound = 17.91, Upper Bound = 54.31\n"
     ]
    },
    {
     "output_type": "display_data",
     "data": {
      "image/png": "[encoded data removed]",
      "text/plain": [
       "<Figure size 432x288 with 1 Axes>"
      ]
     },
     "metadata": {
      "needs_background": "light"
     }
    },
    {
     "output_type": "stream",
     "name": "stdout",
     "text": [
      "5-Number Summary for Infubinol is: Min:36.32, Q1:54.05, M:60.17, Q3:65.53, Max:72.23\n",
      "\tUsing the IQR: 11.48, Lower Bound = 36.83, Upper Bound = 82.75\n",
      "\tInfubinol has atleast one lower outlier\n"
     ]
    },
    {
     "output_type": "display_data",
     "data": {
      "image/png": "[encoded data removed]",
      "text/plain": [
       "<Figure size 432x288 with 1 Axes>"
      ]
     },
     "metadata": {
      "needs_background": "light"
     }
    },
    {
     "output_type": "stream",
     "name": "stdout",
     "text": [
      "5-Number Summary for Ceftamin is: Min:45.0, Q1:48.72, M:59.85, Q3:64.3, Max:68.92\n",
      "\tUsing the IQR: 15.58, Lower Bound = 25.35, Upper Bound = 87.67\n"
     ]
    }
   ],
   "metadata": {}
  },
  {
   "cell_type": "markdown",
   "source": [
    "## Line and Scatter Plots"
   ],
   "metadata": {}
  },
  {
   "cell_type": "code",
   "execution_count": 16,
   "source": [
    "# Generate a line plot of tumor volume vs. time point for a mouse treated with Capomulin\r\n",
    "\r\n",
    "#Start by filtering only Capomulin mice.\r\n",
    "capomulin_mice = cleanmice_df[cleanmice_df['Drug Regimen'] == 'Capomulin']\r\n",
    "\r\n",
    "#Drop duplicates entries and save the Mouse ID's to a list.\r\n",
    "capomulin_mice_list = capomulin_mice.drop_duplicates(subset = 'Mouse ID')\r\n",
    "capomulin_mice_list = capomulin_mice_list['Mouse ID'].tolist()\r\n",
    "\r\n",
    "#Randomly select the mouse to follow, filter dataframe to only show this mouse.\r\n",
    "the_chosen_one = random.choice(capomulin_mice_list)\r\n",
    "chosen_df = cleanmice_df[cleanmice_df['Mouse ID'] == the_chosen_one]\r\n",
    "\r\n",
    "#Pull the Mouse's data to create graph.\r\n",
    "xchosen = chosen_df['Timepoint']\r\n",
    "ychosen = chosen_df['Tumor Volume (mm3)']\r\n",
    "\r\n",
    "#Creating the graph and appropriate labels.\r\n",
    "plt.plot(xchosen,ychosen)\r\n",
    "plt.xlabel('Timepoint')\r\n",
    "plt.ylabel('Tumor Volume (mm3)')\r\n",
    "plt.title(f'Tumor Volume over Time for Capomulin Test Mouse: {the_chosen_one}')\r\n",
    "\r\n",
    "\r\n",
    "plt.tight_layout()\r\n",
    "plt.show()\r\n"
   ],
   "outputs": [
    {
     "output_type": "display_data",
     "data": {
      "image/png": "[encoded data removed]",
      "text/plain": [
       "<Figure size 432x288 with 1 Axes>"
      ]
     },
     "metadata": {
      "needs_background": "light"
     }
    }
   ],
   "metadata": {}
  },
  {
   "cell_type": "code",
   "execution_count": 18,
   "source": [
    "# Generate a scatter plot of average tumor volume vs. mouse weight for the Capomulin regimen\r\n",
    "capomulin_groups = capomulin_mice.groupby('Mouse ID')\r\n",
    "yscatter = capomulin_groups['Tumor Volume (mm3)'].mean()\r\n",
    "xscatter = capomulin_groups['Weight (g)'].mean()\r\n",
    "plt.scatter(xscatter,yscatter)\r\n",
    "plt.xlabel('Mouse Weight (g)')\r\n",
    "plt.ylabel('Tumor Volume (mm3)')\r\n",
    "plt.title('Capomulin test Mice: Weight vs. Tumor Volumes')\r\n",
    "plt.tight_layout()\r\n",
    "plt.show()"
   ],
   "outputs": [
    {
     "output_type": "display_data",
     "data": {
      "image/png": "[encoded data removed]",
      "text/plain": [
       "<Figure size 432x288 with 1 Axes>"
      ]
     },
     "metadata": {
      "needs_background": "light"
     }
    }
   ],
   "metadata": {}
  },
  {
   "cell_type": "markdown",
   "source": [
    "## Correlation and Regression"
   ],
   "metadata": {}
  },
  {
   "cell_type": "code",
   "execution_count": 19,
   "source": [
    "# Calculate the correlation coefficient and linear regression model \r\n",
    "# for mouse weight and average tumor volume for the Capomulin regimen\r\n",
    "(slope, intercept, rvalue, _, _) = st.linregress(xscatter,yscatter)\r\n",
    "fit = slope*xscatter+intercept\r\n",
    "\r\n",
    "#Re-graphing with linear regression line added overlaid\r\n",
    "plt.scatter(xscatter, yscatter)\r\n",
    "plt.plot(xscatter, fit ,\"-\", color = \"red\")\r\n",
    "plt.xlabel('Mouse Weight (g)')\r\n",
    "plt.ylabel('Tumor Volume (mm3)')\r\n",
    "plt.title('Capomulin test Mice: Weight vs. Tumor Volumes')\r\n",
    "\r\n",
    "#Adding the equation of linear regression onto the graph.\r\n",
    "plt.annotate(f'Volume = {round(slope,2)}*Weight +{round(intercept,2)}',[18,36], color = 'red', fontsize = 13)\r\n",
    "\r\n",
    "plt.tight_layout()\r\n",
    "plt.show()\r\n",
    "print(f'Correlation coeffecient [R-Value] is {round(rvalue,2)}')"
   ],
   "outputs": [
    {
     "output_type": "display_data",
     "data": {
      "image/png": "[encoded data removed]",
      "text/plain": [
       "<Figure size 432x288 with 1 Axes>"
      ]
     },
     "metadata": {
      "needs_background": "light"
     }
    },
    {
     "output_type": "stream",
     "name": "stdout",
     "text": [
      "Correlation coeffecient [R-Value] is 0.84\n"
     ]
    }
   ],
   "metadata": {}
  }
 ],
 "metadata": {
  "anaconda-cloud": {},
  "kernelspec": {
   "name": "python3",
   "display_name": "Python 3.6.10 64-bit ('pythonbeta': conda)"
  },
  "language_info": {
   "codemirror_mode": {
    "name": "ipython",
    "version": 3
   },
   "file_extension": ".py",
   "mimetype": "text/x-python",
   "name": "python",
   "nbconvert_exporter": "python",
   "pygments_lexer": "ipython3",
   "version": "3.6.10"
  },
  "interpreter": {
   "hash": "6c6a54772e2ce38b8229b5dd05c5ee40870a75cd85918be7921956d4e827639f"
  }
 },
 "nbformat": 4,
 "nbformat_minor": 4
}